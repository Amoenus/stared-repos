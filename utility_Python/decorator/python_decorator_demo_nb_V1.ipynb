{
 "cells": [
  {
   "cell_type": "code",
   "execution_count": 24,
   "metadata": {},
   "outputs": [],
   "source": [
    "def logged(func): \n",
    "    def with_logging(*args, **kwargs): \n",
    "        print (func.__name__ + \" was called\" )\n",
    "        return func(*args, **kwargs) \n",
    "    return with_logging\n",
    "\n",
    "\n",
    "def my_deco_1(func):\n",
    "    def myfunc(*args, **kwargs):\n",
    "        print (' this is my_deco_1 ')\n",
    "        return func\n",
    "    return myfunc\n",
    "\n",
    "# -------------------------------------"
   ]
  },
  {
   "cell_type": "code",
   "execution_count": 25,
   "metadata": {},
   "outputs": [],
   "source": [
    "\n",
    "@logged \n",
    "def f(x): \n",
    "   \"\"\"does some math\"\"\" \n",
    "   return x + x * x\n",
    "\n",
    "\n",
    "\n",
    "@my_deco_1 \n",
    "def g(x): \n",
    "   \"\"\"does some math\"\"\" \n",
    "   return x + x * x\n",
    "\n"
   ]
  },
  {
   "cell_type": "code",
   "execution_count": 26,
   "metadata": {},
   "outputs": [
    {
     "name": "stdout",
     "output_type": "stream",
     "text": [
      " this is my_deco_1 \n",
      "<function g at 0x10d9fb598>\n"
     ]
    }
   ],
   "source": [
    "print (g(3))\n",
    "# as same as below \n",
    "# g = my_deco_1(g)\n",
    "# print g(3)"
   ]
  },
  {
   "cell_type": "code",
   "execution_count": 23,
   "metadata": {},
   "outputs": [
    {
     "name": "stdout",
     "output_type": "stream",
     "text": [
      "f was called\n",
      "12\n"
     ]
    }
   ],
   "source": [
    "print (f(3))\n",
    "# as same as below \n",
    "# f = logged(f)\n",
    "# print f(3)"
   ]
  },
  {
   "cell_type": "code",
   "execution_count": 9,
   "metadata": {},
   "outputs": [],
   "source": []
  },
  {
   "cell_type": "code",
   "execution_count": 27,
   "metadata": {},
   "outputs": [],
   "source": [
    "#############################"
   ]
  },
  {
   "cell_type": "code",
   "execution_count": 42,
   "metadata": {},
   "outputs": [
    {
     "name": "stdout",
     "output_type": "stream",
     "text": [
      "before myfunc() called.\n",
      " myfunc() called.\n",
      "  after myfunc() called.\n"
     ]
    }
   ],
   "source": [
    "\n",
    "def deco(func):\n",
    "    print(\"before myfunc() called.\")\n",
    "    func()\n",
    "    print(\"  after myfunc() called.\")\n",
    "    return func\n",
    " \n",
    "    \n",
    "def deco2(func):\n",
    "    print( 1+3+4)\n",
    "    func()\n",
    "    print(1*10*2)\n",
    "    return func\n",
    "\n",
    "\n",
    "@deco\n",
    "def myfunc():\n",
    "    print(\" myfunc() called.\")\n",
    "\n",
    "\n",
    "# as same as deco(myfunc())"
   ]
  },
  {
   "cell_type": "code",
   "execution_count": 41,
   "metadata": {},
   "outputs": [
    {
     "name": "stdout",
     "output_type": "stream",
     "text": [
      "before myfunc() called.\n",
      "this is  myfunc2\n",
      "  after myfunc() called.\n"
     ]
    }
   ],
   "source": [
    "@deco\n",
    "def myfunc2():\n",
    "    print(\"this is  myfunc2\")\n"
   ]
  },
  {
   "cell_type": "code",
   "execution_count": 64,
   "metadata": {},
   "outputs": [],
   "source": [
    "\n",
    "def deco(func):\n",
    "    def _deco(a, b):\n",
    "        print(\"before myfunc() called.\")\n",
    "        ret = func(a, b)\n",
    "        print(\"  after myfunc() called. result: %s\" % ret)\n",
    "        return ret\n",
    "    return _deco \n",
    "    #return f()\n",
    " \n",
    "@deco\n",
    "def myfunc(a, b):\n",
    "    print(\" myfunc(%s,%s) called.\" % (a, b))\n",
    "    return a + b"
   ]
  },
  {
   "cell_type": "code",
   "execution_count": 65,
   "metadata": {},
   "outputs": [
    {
     "name": "stdout",
     "output_type": "stream",
     "text": [
      "before myfunc() called.\n",
      " myfunc(1,2) called.\n",
      "  after myfunc() called. result: 3\n"
     ]
    },
    {
     "data": {
      "text/plain": [
       "3"
      ]
     },
     "execution_count": 65,
     "metadata": {},
     "output_type": "execute_result"
    }
   ],
   "source": [
    "myfunc(1, 2)\n",
    "# as same as \n",
    "# deco(myfunc(1, 2))"
   ]
  },
  {
   "cell_type": "code",
   "execution_count": 53,
   "metadata": {},
   "outputs": [
    {
     "name": "stdout",
     "output_type": "stream",
     "text": [
      "before myfunc() called.\n",
      " myfunc(1,2) called.\n",
      "  after myfunc() called. result: 3\n"
     ]
    },
    {
     "data": {
      "text/plain": [
       "3"
      ]
     },
     "execution_count": 53,
     "metadata": {},
     "output_type": "execute_result"
    }
   ],
   "source": [
    "myfunc(1, 2)\n",
    "# as same as \n",
    "# deco(myfunc(1, 2))"
   ]
  },
  {
   "cell_type": "code",
   "execution_count": 49,
   "metadata": {},
   "outputs": [
    {
     "name": "stdout",
     "output_type": "stream",
     "text": [
      "before myfunc() called.\n",
      " myfunc(1,2) called.\n",
      "  after myfunc() called. result: 3\n"
     ]
    },
    {
     "data": {
      "text/plain": [
       "3"
      ]
     },
     "execution_count": 49,
     "metadata": {},
     "output_type": "execute_result"
    }
   ],
   "source": [
    "myfunc(1,2)"
   ]
  },
  {
   "cell_type": "code",
   "execution_count": 67,
   "metadata": {},
   "outputs": [],
   "source": [
    "def deco(func):\n",
    "    def _deco(*args, **kwargs):\n",
    "        print(\"before %s called.\" % func.__name__)\n",
    "        ret = func(*args, **kwargs)\n",
    "        print(\"  after %s called. result: %s\" % (func.__name__, ret))\n",
    "        return ret\n",
    "    return _deco\n",
    " \n",
    "@deco\n",
    "def myfunc(a, b):\n",
    "    print(\" myfunc(%s,%s) called.\" % (a, b))\n",
    "    return a+b\n",
    " \n",
    "@deco\n",
    "def myfunc2(a, b, c):\n",
    "    print(\" myfunc2(%s,%s,%s) called.\" % (a, b, c))\n",
    "    return a+b+c\n"
   ]
  },
  {
   "cell_type": "code",
   "execution_count": 74,
   "metadata": {},
   "outputs": [
    {
     "name": "stdout",
     "output_type": "stream",
     "text": [
      "before myfunc2 called.\n",
      " myfunc2(1,2,3) called.\n",
      "  after myfunc2 called. result: 6\n"
     ]
    },
    {
     "data": {
      "text/plain": [
       "6"
      ]
     },
     "execution_count": 74,
     "metadata": {},
     "output_type": "execute_result"
    }
   ],
   "source": [
    "#myfunc(1, 2)  # deco(myfunc(1,2))\n",
    "#myfunc(3, 4) # deco(myfunc(3,4))\n",
    "myfunc2(1, 2, 3) # deco(myfunc2(1,2,3))\n",
    "#myfunc2(3, 4, 5)"
   ]
  },
  {
   "cell_type": "code",
   "execution_count": 75,
   "metadata": {},
   "outputs": [],
   "source": [
    "#############"
   ]
  },
  {
   "cell_type": "code",
   "execution_count": 76,
   "metadata": {},
   "outputs": [],
   "source": [
    "\n",
    "def deco(arg):\n",
    "    def _deco(func):\n",
    "        def __deco():\n",
    "            print(\"before %s called [%s].\" % (func.__name__, arg))\n",
    "            func()\n",
    "            print(\"  after %s called [%s].\" % (func.__name__, arg))\n",
    "        return __deco\n",
    "    return _deco\n",
    " \n",
    "@deco(\"mymodule\")\n",
    "def myfunc():\n",
    "    print(\" myfunc() called.\")\n",
    " \n",
    "@deco(\"module2\")\n",
    "def myfunc2():\n",
    "    print(\" myfunc2() called.\")\n",
    " "
   ]
  },
  {
   "cell_type": "code",
   "execution_count": 78,
   "metadata": {},
   "outputs": [
    {
     "name": "stdout",
     "output_type": "stream",
     "text": [
      "before myfunc called [mymodule].\n",
      " myfunc() called.\n",
      "  after myfunc called [mymodule].\n"
     ]
    }
   ],
   "source": [
    "\n",
    "myfunc()\n",
    "#myfunc2()"
   ]
  },
  {
   "cell_type": "code",
   "execution_count": 79,
   "metadata": {},
   "outputs": [
    {
     "name": "stdout",
     "output_type": "stream",
     "text": [
      "before myfunc called [<class '__main__.locker'>].\n",
      "locker.acquire() called.（这是静态方法）\n",
      " myfunc() called.\n",
      "  locker.release() called.（不需要对象实例）\n",
      "before myfunc called [<class '__main__.locker'>].\n",
      "locker.acquire() called.（这是静态方法）\n",
      " myfunc() called.\n",
      "  locker.release() called.（不需要对象实例）\n"
     ]
    }
   ],
   "source": [
    "# -*- coding:gbk -*-\n",
    "'''示例8: 装饰器带类参数'''\n",
    " \n",
    "class locker:\n",
    "    def __init__(self):\n",
    "        print(\"locker.__init__() should be not called.\")\n",
    "         \n",
    "    @staticmethod\n",
    "    def acquire():\n",
    "        print(\"locker.acquire() called.（这是静态方法）\")\n",
    "         \n",
    "    @staticmethod\n",
    "    def release():\n",
    "        print(\"  locker.release() called.（不需要对象实例）\")\n",
    " \n",
    "def deco(cls):\n",
    "    '''cls 必须实现acquire和release静态方法'''\n",
    "    def _deco(func):\n",
    "        def __deco():\n",
    "            print(\"before %s called [%s].\" % (func.__name__, cls))\n",
    "            cls.acquire()\n",
    "            try:\n",
    "                return func()\n",
    "            finally:\n",
    "                cls.release()\n",
    "        return __deco\n",
    "    return _deco\n",
    " \n",
    "@deco(locker)\n",
    "def myfunc():\n",
    "    print(\" myfunc() called.\")\n",
    " \n",
    "myfunc()\n",
    "myfunc()"
   ]
  },
  {
   "cell_type": "code",
   "execution_count": 80,
   "metadata": {},
   "outputs": [],
   "source": [
    "################"
   ]
  },
  {
   "cell_type": "code",
   "execution_count": 98,
   "metadata": {},
   "outputs": [],
   "source": [
    "def deco(func):\n",
    "    def _deco(*args, **kwargs):\n",
    "        print ('before call func' )\n",
    "        ret = func(*args, **kwargs)\n",
    "        print ('after call func' )\n",
    "        return ret\n",
    "    return _deco\n",
    "\n",
    "@deco\n",
    "def myfunc(x,y):\n",
    "    print ('x :', x )\n",
    "    print ('y :', y )\n",
    "    return ' x+y = ', x+y"
   ]
  },
  {
   "cell_type": "code",
   "execution_count": 99,
   "metadata": {},
   "outputs": [
    {
     "name": "stdout",
     "output_type": "stream",
     "text": [
      "before call func\n",
      "x : 1\n",
      "y : 2\n",
      "after call func\n"
     ]
    },
    {
     "data": {
      "text/plain": [
       "(' x+y = ', 3)"
      ]
     },
     "execution_count": 99,
     "metadata": {},
     "output_type": "execute_result"
    }
   ],
   "source": [
    "myfunc(1,2)"
   ]
  },
  {
   "cell_type": "code",
   "execution_count": 113,
   "metadata": {},
   "outputs": [],
   "source": [
    "##################"
   ]
  },
  {
   "cell_type": "code",
   "execution_count": 122,
   "metadata": {},
   "outputs": [],
   "source": [
    "import time\n",
    " \n",
    "def timeit(func):\n",
    "    def wrapper():\n",
    "        start = time.clock()\n",
    "        func()\n",
    "        end =time.clock()\n",
    "        print  ('used:', end - start)\n",
    "    return wrapper\n",
    " \n",
    "@timeit\n",
    "def foo():\n",
    "    print ('in foo()')\n",
    " "
   ]
  },
  {
   "cell_type": "code",
   "execution_count": 123,
   "metadata": {},
   "outputs": [
    {
     "name": "stdout",
     "output_type": "stream",
     "text": [
      "in foo()\n",
      "used: 0.00026100000000006673\n"
     ]
    }
   ],
   "source": [
    "foo() # timeit(foo"
   ]
  },
  {
   "cell_type": "code",
   "execution_count": 124,
   "metadata": {},
   "outputs": [],
   "source": [
    "############"
   ]
  },
  {
   "cell_type": "code",
   "execution_count": 131,
   "metadata": {},
   "outputs": [],
   "source": [
    "def my_deco(func):\n",
    "    def _my_deco(*args, **kwargs):\n",
    "        print ('check before run func() ... ')\n",
    "        if func(*args, **kwargs) < 5:\n",
    "            print ('to small.. ')\n",
    "        else:\n",
    "            print (' value OK .. ')\n",
    "        print ('after checking func() ...')\n",
    "    return _my_deco\n",
    "    \n",
    "    \n",
    "@my_deco\n",
    "def my_func(x,y):\n",
    "    print ('x+y =' , x+y)\n",
    "    return x+y\n",
    "    \n",
    "    "
   ]
  },
  {
   "cell_type": "code",
   "execution_count": 132,
   "metadata": {},
   "outputs": [
    {
     "name": "stdout",
     "output_type": "stream",
     "text": [
      "check before run func() ... \n",
      "x+y = 3\n",
      "to small.. \n",
      "after checking func() ...\n"
     ]
    }
   ],
   "source": [
    "my_func(1,2)"
   ]
  },
  {
   "cell_type": "code",
   "execution_count": 133,
   "metadata": {},
   "outputs": [],
   "source": [
    "##############"
   ]
  },
  {
   "cell_type": "code",
   "execution_count": 144,
   "metadata": {},
   "outputs": [],
   "source": [
    "def login(func):\n",
    "    def _login(*args, **kwargs):\n",
    "        if func(*args, **kwargs) == 'password':\n",
    "            print (' login success !')\n",
    "        else:\n",
    "            print (' login failed !')\n",
    "    return _login\n",
    "        \n",
    "    \n",
    "# login(myaccount(password))    \n",
    "@login\n",
    "def myaccount(password):\n",
    "    print (' proceed login ....')\n",
    "    return password\n",
    "    "
   ]
  },
  {
   "cell_type": "code",
   "execution_count": 145,
   "metadata": {},
   "outputs": [
    {
     "name": "stdout",
     "output_type": "stream",
     "text": [
      " proceed login ....\n",
      " login failed !\n"
     ]
    }
   ],
   "source": [
    "myaccount('test')"
   ]
  },
  {
   "cell_type": "code",
   "execution_count": 146,
   "metadata": {},
   "outputs": [
    {
     "name": "stdout",
     "output_type": "stream",
     "text": [
      " proceed login ....\n",
      " login success !\n"
     ]
    }
   ],
   "source": [
    "myaccount('password')"
   ]
  }
 ],
 "metadata": {
  "kernelspec": {
   "display_name": "Environment (conda_ds_dash)",
   "language": "python",
   "name": "conda_ds_dash"
  },
  "language_info": {
   "codemirror_mode": {
    "name": "ipython",
    "version": 3
   },
   "file_extension": ".py",
   "mimetype": "text/x-python",
   "name": "python",
   "nbconvert_exporter": "python",
   "pygments_lexer": "ipython3",
   "version": "3.5.4"
  }
 },
 "nbformat": 4,
 "nbformat_minor": 2
}
